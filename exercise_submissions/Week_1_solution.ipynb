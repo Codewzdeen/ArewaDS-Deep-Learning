{
  "cells": [
    {
      "cell_type": "markdown",
      "metadata": {
        "id": "scE3M2jPQq0o"
      },
      "source": [
        "Arewa Data Science Academy\n",
        "\n",
        "Deep Learning Cohort2.0\n",
        "\n",
        "Name: Zaharaddeen Nura Ibrahim\n",
        "\n",
        "Email: zaharaddeennura@gmail.com\n",
        "\n",
        "Title: Week 1 Solution\n",
        "\n",
        "Exercises Solution"
      ]
    },
    {
      "cell_type": "markdown",
      "metadata": {
        "id": "_93Db6-LTdkd"
      },
      "source": [
        "2. Create a random tensor with shape (7, 7)."
      ]
    },
    {
      "cell_type": "code",
      "execution_count": 2,
      "metadata": {
        "colab": {
          "base_uri": "https://localhost:8080/"
        },
        "id": "f4eT7IB84mJ4",
        "outputId": "d5260ffe-cc3c-43e0-cec5-938a0a821b7d"
      },
      "outputs": [
        {
          "data": {
            "text/plain": [
              "(2, torch.Size([7, 7]))"
            ]
          },
          "execution_count": 2,
          "metadata": {},
          "output_type": "execute_result"
        }
      ],
      "source": [
        "# Import torch\n",
        "import torch\n",
        "\n",
        "# Create random tensor\n",
        "tensor2 = torch.rand(7, 7)\n",
        "tensor2.ndim, tensor2.shape"
      ]
    },
    {
      "cell_type": "markdown",
      "metadata": {
        "id": "bsyHMWy75dBm"
      },
      "source": [
        "3. Perform a matrix multiplication on the tensor from 2 with another random tensor with shape (1, 7) (hint: you may have to transpose the second tensor)."
      ]
    },
    {
      "cell_type": "code",
      "execution_count": 30,
      "metadata": {
        "colab": {
          "base_uri": "https://localhost:8080/"
        },
        "id": "J22dNM2g5pil",
        "outputId": "473aec45-2405-4052-f54b-506ab75ecf25"
      },
      "outputs": [
        {
          "data": {
            "text/plain": [
              "(2, torch.Size([1, 7]))"
            ]
          },
          "execution_count": 30,
          "metadata": {},
          "output_type": "execute_result"
        }
      ],
      "source": [
        "# Create another random tensor\n",
        "tensor3 = torch.rand(1, 7)\n",
        "tensor3.ndim, tensor3.shape\n",
        "\n"
      ]
    },
    {
      "cell_type": "code",
      "execution_count": 31,
      "metadata": {
        "colab": {
          "base_uri": "https://localhost:8080/"
        },
        "id": "tG3qlBtiABWq",
        "outputId": "7c915b27-b02a-4ba6-d42e-e6a7914dbc57"
      },
      "outputs": [
        {
          "data": {
            "text/plain": [
              "(2, torch.Size([7, 1]))"
            ]
          },
          "execution_count": 31,
          "metadata": {},
          "output_type": "execute_result"
        }
      ],
      "source": [
        "transpose = tensor3.T\n",
        "transpose.ndim, transpose.shape"
      ]
    },
    {
      "cell_type": "code",
      "execution_count": 34,
      "metadata": {
        "colab": {
          "base_uri": "https://localhost:8080/"
        },
        "id": "PDqTNrLQARM5",
        "outputId": "fc401a7d-bfd1-4899-c6c5-ad0cc8120cca"
      },
      "outputs": [
        {
          "data": {
            "text/plain": [
              "tensor([[1.5688],\n",
              "        [0.9070],\n",
              "        [1.0978],\n",
              "        [1.5727],\n",
              "        [1.5372],\n",
              "        [1.3775],\n",
              "        [2.1036]])"
            ]
          },
          "execution_count": 34,
          "metadata": {},
          "output_type": "execute_result"
        }
      ],
      "source": [
        "# Perform matrix multiplication\n",
        "result = torch.matmul(tensor2, tensor3.T)\n",
        "result"
      ]
    },
    {
      "cell_type": "markdown",
      "metadata": {
        "id": "9Ai1xTPVBVRa"
      },
      "source": [
        "4. Set the random seed to 0 and do 2 & 3 over again."
      ]
    },
    {
      "cell_type": "code",
      "execution_count": 50,
      "metadata": {
        "colab": {
          "base_uri": "https://localhost:8080/"
        },
        "id": "3opXmJI0BXQp",
        "outputId": "ff13269a-ee37-4f35-a69b-cc03419699c4"
      },
      "outputs": [
        {
          "data": {
            "text/plain": [
              "(tensor([[1.8542],\n",
              "         [1.9611],\n",
              "         [2.2884],\n",
              "         [3.0481],\n",
              "         [1.7067],\n",
              "         [2.5290],\n",
              "         [1.7989]]),\n",
              " torch.Size([7, 1]))"
            ]
          },
          "execution_count": 50,
          "metadata": {},
          "output_type": "execute_result"
        }
      ],
      "source": [
        "# Set manual seed\n",
        "torch.manual_seed(0)\n",
        "\n",
        "# Create two random tensors\n",
        "tensor1 = torch.rand(7,  7)\n",
        "tensor2 = torch.rand(1, 7)\n",
        "\n",
        "# Perform matrix multiplication\n",
        "tenmul = torch.matmul(tensor1, tensor2.T)\n",
        "tenmul,tenmul.shape\n",
        "\n"
      ]
    },
    {
      "cell_type": "markdown",
      "metadata": {
        "id": "y5b4GY2xL_c4"
      },
      "source": [
        "5. Speaking of random seeds, we saw how to set it with torch.manual_seed() but is there a GPU equivalent? (hint: you'll need to look into the documentation for torch.cuda for this one)"
      ]
    },
    {
      "cell_type": "code",
      "execution_count": 3,
      "metadata": {
        "colab": {
          "base_uri": "https://localhost:8080/",
          "height": 35
        },
        "id": "Bxs2fS8ZMCCD",
        "outputId": "5f5b8b00-e7bb-49f3-e606-4a5c59aca4ed"
      },
      "outputs": [
        {
          "data": {
            "application/vnd.google.colaboratory.intrinsic+json": {
              "type": "string"
            },
            "text/plain": [
              "'cuda'"
            ]
          },
          "execution_count": 3,
          "metadata": {},
          "output_type": "execute_result"
        }
      ],
      "source": [
        "device = \"cuda\" if torch.cuda.is_available() else \"cpu\"\n",
        "device"
      ]
    },
    {
      "cell_type": "code",
      "execution_count": 4,
      "metadata": {
        "id": "GfGNUW-MMePo"
      },
      "outputs": [],
      "source": [
        "# Set random seed on the GPU\n",
        "torch.cuda.manual_seed(1234)\n"
      ]
    },
    {
      "cell_type": "markdown",
      "metadata": {
        "id": "w7m1saZoMmM4"
      },
      "source": [
        "6. Create two random tensors of shape (2, 3) and send them both to the GPU (you'll need access to a GPU for this). Set torch.manual_seed(1234) when creating the tensors (this doesn't have to be the GPU random seed)."
      ]
    },
    {
      "cell_type": "code",
      "execution_count": 7,
      "metadata": {
        "colab": {
          "base_uri": "https://localhost:8080/"
        },
        "id": "KO9Dmm9DNQPK",
        "outputId": "bf1b934c-5936-4b8f-c1e7-0cabd00a5608"
      },
      "outputs": [
        {
          "name": "stdout",
          "output_type": "stream",
          "text": [
            "Device: cuda\n"
          ]
        },
        {
          "data": {
            "text/plain": [
              "(tensor([[0.0290, 0.4019, 0.2598],\n",
              "         [0.3666, 0.0583, 0.7006]], device='cuda:0'),\n",
              " tensor([[0.0518, 0.4681, 0.6738],\n",
              "         [0.3315, 0.7837, 0.5631]], device='cuda:0'))"
            ]
          },
          "execution_count": 7,
          "metadata": {},
          "output_type": "execute_result"
        }
      ],
      "source": [
        "# Set random seed\n",
        "torch.manual_seed(1234)\n",
        "\n",
        "# Check for access to gpu\n",
        "device = \"cuda\" if torch.cuda.is_available() else \"cpu\"\n",
        "print(f\"Device: {device}\")\n",
        "\n",
        "# Create two random tensors\n",
        "tensor_A = torch.rand(2, 3).to(device)\n",
        "tensor_B = torch.rand(2, 3).to(device)\n",
        "tensor_A, tensor_B"
      ]
    },
    {
      "cell_type": "markdown",
      "metadata": {
        "id": "u7jvEohhNrva"
      },
      "source": [
        "7. Perform a matrix multiplication on the tensors you created in 6 (again, you may have to adjust the shapes of one of the tensors)."
      ]
    },
    {
      "cell_type": "code",
      "execution_count": 8,
      "metadata": {
        "colab": {
          "base_uri": "https://localhost:8080/"
        },
        "id": "SBDZeq_ONtQ8",
        "outputId": "f8e2a166-fdca-44f4-fa4f-fe8309b2ee68"
      },
      "outputs": [
        {
          "data": {
            "text/plain": [
              "(tensor([[0.3647, 0.4709],\n",
              "         [0.5184, 0.5617]], device='cuda:0'),\n",
              " torch.Size([2, 2]))"
            ]
          },
          "execution_count": 8,
          "metadata": {},
          "output_type": "execute_result"
        }
      ],
      "source": [
        "# Perform matmul on tensor_A and tensor_B\n",
        "tensor7 = torch.mm(tensor_A, tensor_B.T)\n",
        "tensor7, tensor7.shape"
      ]
    },
    {
      "cell_type": "markdown",
      "metadata": {
        "id": "7BYq-oZGOrUV"
      },
      "source": [
        "8. Find the maximum and minimum values of the output of 7."
      ]
    },
    {
      "cell_type": "code",
      "execution_count": 13,
      "metadata": {
        "colab": {
          "base_uri": "https://localhost:8080/"
        },
        "id": "qhLJubWHOtKo",
        "outputId": "366a27b3-e3f7-40b6-e6eb-181dec3fec97"
      },
      "outputs": [
        {
          "data": {
            "text/plain": [
              "tensor(0.5617, device='cuda:0')"
            ]
          },
          "execution_count": 13,
          "metadata": {},
          "output_type": "execute_result"
        }
      ],
      "source": [
        "# Find max\n",
        "torch.max(tensor7)"
      ]
    },
    {
      "cell_type": "code",
      "execution_count": 14,
      "metadata": {
        "colab": {
          "base_uri": "https://localhost:8080/"
        },
        "id": "A-Oz3CHnPltU",
        "outputId": "10ff9032-2ccf-479b-caa1-f11441904a1d"
      },
      "outputs": [
        {
          "data": {
            "text/plain": [
              "tensor(0.3647, device='cuda:0')"
            ]
          },
          "execution_count": 14,
          "metadata": {},
          "output_type": "execute_result"
        }
      ],
      "source": [
        "# Find min\n",
        "torch.min(tensor7)"
      ]
    },
    {
      "cell_type": "markdown",
      "metadata": {
        "id": "ZzHYCkO1OtyY"
      },
      "source": [
        "9. Find the maximum and minimum index values of the output of 7."
      ]
    },
    {
      "cell_type": "code",
      "execution_count": 15,
      "metadata": {
        "colab": {
          "base_uri": "https://localhost:8080/"
        },
        "id": "a1hg41BqOzdq",
        "outputId": "fb26a3f9-e741-40a8-8d2b-9006ff0d7075"
      },
      "outputs": [
        {
          "data": {
            "text/plain": [
              "tensor(3, device='cuda:0')"
            ]
          },
          "execution_count": 15,
          "metadata": {},
          "output_type": "execute_result"
        }
      ],
      "source": [
        "# Find arg max\n",
        "torch.argmax(tensor7)"
      ]
    },
    {
      "cell_type": "code",
      "execution_count": 17,
      "metadata": {
        "colab": {
          "base_uri": "https://localhost:8080/"
        },
        "id": "wHzi5DMcPotO",
        "outputId": "5876b88c-b774-49ce-fa5c-8ae395c7abd1"
      },
      "outputs": [
        {
          "data": {
            "text/plain": [
              "tensor(0, device='cuda:0')"
            ]
          },
          "execution_count": 17,
          "metadata": {},
          "output_type": "execute_result"
        }
      ],
      "source": [
        "# Find arg min\n",
        "torch.argmin(tensor7)"
      ]
    },
    {
      "cell_type": "markdown",
      "metadata": {
        "id": "eB_UW4pTQFSr"
      },
      "source": [
        "10. Make a random tensor with shape (1, 1, 1, 10) and then create a new tensor with all the 1 dimensions removed to be left with a tensor of shape (10). Set the seed to 7 when you create it and print out the first tensor and it's shape as well as the second tensor and it's shape."
      ]
    },
    {
      "cell_type": "code",
      "execution_count": 18,
      "metadata": {
        "colab": {
          "base_uri": "https://localhost:8080/"
        },
        "id": "THjUg3p1QHP_",
        "outputId": "ea707ffb-d4a1-419a-9b44-1da001c9da7b"
      },
      "outputs": [
        {
          "data": {
            "text/plain": [
              "(tensor([[[[0.5349, 0.1988, 0.6592, 0.6569, 0.2328, 0.4251, 0.2071, 0.6297,\n",
              "            0.3653, 0.8513]]]]),\n",
              " torch.Size([1, 1, 1, 10]),\n",
              " tensor([0.5349, 0.1988, 0.6592, 0.6569, 0.2328, 0.4251, 0.2071, 0.6297, 0.3653,\n",
              "         0.8513]),\n",
              " torch.Size([10]))"
            ]
          },
          "execution_count": 18,
          "metadata": {},
          "output_type": "execute_result"
        }
      ],
      "source": [
        "# Set Seed\n",
        "torch.manual_seed(7)\n",
        "\n",
        "# Create a random tensor\n",
        "tensor10a = torch.rand(1, 1, 1, 10)\n",
        "\n",
        "# Remove single dimension\n",
        "tensor10b = tensor10a.squeeze()\n",
        "\n",
        "# Print out tensors and their shapes\n",
        "tensor10a, tensor10a.shape, tensor10b, tensor10b.shape\n",
        "\n",
        "\n",
        "\n"
      ]
    }
  ],
  "metadata": {
    "accelerator": "GPU",
    "colab": {
      "gpuType": "T4",
      "provenance": []
    },
    "kernelspec": {
      "display_name": "Arewa-Data-Science",
      "language": "python",
      "name": "python3"
    },
    "language_info": {
      "name": "python",
      "version": "3.10.13"
    }
  },
  "nbformat": 4,
  "nbformat_minor": 0
}
