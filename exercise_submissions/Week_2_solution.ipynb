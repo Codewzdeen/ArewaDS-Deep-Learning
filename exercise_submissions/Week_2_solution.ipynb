{
  "cells": [
    {
      "cell_type": "markdown",
      "metadata": {
        "id": "NicqGQfTctYE"
      },
      "source": [
        "# Arewa Data Science Academy\n",
        "## Deep Learning Cohort2.0\n",
        "**Name: Zaharaddeen Nura Ibrahim**\n",
        "\n",
        "**Email: zaharaddeennura@gmail.com**\n",
        "\n",
        "**Title: Week 2 Solution**\n"
      ]
    },
    {
      "cell_type": "code",
      "execution_count": 1,
      "metadata": {
        "id": "wt8OmYkFEave"
      },
      "outputs": [],
      "source": [
        "# Importing necessary libraries\n",
        "import torch\n",
        "import matplotlib.pyplot as plt"
      ]
    },
    {
      "cell_type": "code",
      "execution_count": 2,
      "metadata": {
        "colab": {
          "base_uri": "https://localhost:8080/",
          "height": 35
        },
        "id": "1jaHoluqEi09",
        "outputId": "f9907d70-7a10-46ae-e9bd-9d3251b63c0e"
      },
      "outputs": [
        {
          "data": {
            "application/vnd.google.colaboratory.intrinsic+json": {
              "type": "string"
            },
            "text/plain": [
              "'cuda'"
            ]
          },
          "execution_count": 2,
          "metadata": {},
          "output_type": "execute_result"
        }
      ],
      "source": [
        "# Setup device-agnostic code\n",
        "device = \"cuda\" if torch.cuda.is_available() else \"cpu\"\n",
        "device"
      ]
    },
    {
      "cell_type": "markdown",
      "metadata": {
        "id": "wipHJ8QAd5kY"
      },
      "source": [
        "### 1. Create a straight line dataset using the linear regression formula (weight * X + bias)."
      ]
    },
    {
      "cell_type": "code",
      "execution_count": 3,
      "metadata": {
        "colab": {
          "base_uri": "https://localhost:8080/"
        },
        "id": "Ytmv4MctErGj",
        "outputId": "773750a5-6d34-489b-f7eb-a3e3f3f2620a"
      },
      "outputs": [
        {
          "name": "stdout",
          "output_type": "stream",
          "text": [
            "Number of X samples: 100\n",
            "Number of y samples: 100\n",
            "First 10 X & y samples:\n",
            "X: tensor([[0.0000],\n",
            "        [0.0100],\n",
            "        [0.0200],\n",
            "        [0.0300],\n",
            "        [0.0400],\n",
            "        [0.0500],\n",
            "        [0.0600],\n",
            "        [0.0700],\n",
            "        [0.0800],\n",
            "        [0.0900]])\n",
            "y: tensor([[0.9000],\n",
            "        [0.9030],\n",
            "        [0.9060],\n",
            "        [0.9090],\n",
            "        [0.9120],\n",
            "        [0.9150],\n",
            "        [0.9180],\n",
            "        [0.9210],\n",
            "        [0.9240],\n",
            "        [0.9270]])\n"
          ]
        }
      ],
      "source": [
        "# Create data Parameters\n",
        "weight = 0.3\n",
        "bias = 0.9\n",
        "\n",
        "\n",
        "# Make X and y using linear regression formula\n",
        "X = torch.arange(0, 1, 0.01).unsqueeze(dim=1)\n",
        "y = weight * X + bias\n",
        "\n",
        "print(f\"Number of X samples: {len(X)}\")\n",
        "print(f\"Number of y samples: {len(y)}\")\n",
        "print(f\"First 10 X & y samples:\\nX: {X[:10]}\\ny: {y[:10]}\")"
      ]
    },
    {
      "cell_type": "code",
      "execution_count": 4,
      "metadata": {
        "id": "Y-C_9FWYGMXo"
      },
      "outputs": [],
      "source": [
        "num_points = len(X)\n",
        "\n",
        "# Split the data into training and testing\n",
        "train_split = int(0.8 * num_points)\n",
        "X_train, y_train = X[:train_split], y[:train_split]\n",
        "X_test, y_test = X[train_split:], y[train_split:]"
      ]
    },
    {
      "cell_type": "code",
      "execution_count": 5,
      "metadata": {
        "colab": {
          "base_uri": "https://localhost:8080/",
          "height": 599
        },
        "id": "cDHIQNFtX7Io",
        "outputId": "bba9f164-9afa-4dc7-bac7-3e1ce5330a37"
      },
      "outputs": [
        {
          "data": {
            "image/png": "[encoded data removed]",
            "text/plain": [
              "<Figure size 1000x700 with 1 Axes>"
            ]
          },
          "metadata": {},
          "output_type": "display_data"
        }
      ],
      "source": [
        "# Plot the training and testing data\n",
        "def plot_predictions(train_data = X_train,\n",
        "                 train_labels = y_train,\n",
        "                 test_data = X_test,\n",
        "                 test_labels = y_test,\n",
        "                 predictions = None):\n",
        "  plt.figure(figsize = (10,7))\n",
        "  plt.scatter(train_data,train_labels,c = 'b',s = 4,label = \"Training data\")\n",
        "  plt.scatter(test_data,test_labels,c = 'r',s = 4,label = \"Test data\")\n",
        "\n",
        "  if predictions is not None:\n",
        "    plt.scatter(test_data,predictions,c = 'r',s = 4,label = \"Predictions\")\n",
        "  plt.legend(prop = {\"size\" : 14})\n",
        "plot_predictions()"
      ]
    },
    {
      "cell_type": "markdown",
      "metadata": {
        "id": "_ZNnB34veHgG"
      },
      "source": [
        "### 2. Build a PyTorch model by subclassing nn.Module"
      ]
    },
    {
      "cell_type": "code",
      "execution_count": 7,
      "metadata": {
        "id": "ySMnRvy9jdTY"
      },
      "outputs": [],
      "source": [
        "# Create PyTorch linear regression model by subclassing nn.Module\n",
        "\n",
        "import torch.nn as nn\n",
        "class LinearRegressionModel(nn.Module):  # Inherit from nn.Module\n",
        "    def __init__(self):\n",
        "        super().__init__()  # Initialize the parent class\n",
        "\n",
        "        # Manually define weights and bias as trainable parameters\n",
        "        self.weight = nn.Parameter(torch.randn(1, requires_grad=True))  # Random weight\n",
        "        self.bias = nn.Parameter(torch.randn(1, requires_grad=True))  # Random bias\n",
        "\n",
        "    def forward(self, x):\n",
        "        return self.weight * x + self.bias  # Linear regression equation: y = w * X + b\n"
      ]
    },
    {
      "cell_type": "code",
      "execution_count": 8,
      "metadata": {
        "id": "ak55XoOFjj2z"
      },
      "outputs": [],
      "source": [
        "# Create an instance of the model\n",
        "torch.manual_seed(42)\n",
        "lr_model = LinearRegressionModel()\n"
      ]
    },
    {
      "cell_type": "code",
      "execution_count": 9,
      "metadata": {
        "colab": {
          "base_uri": "https://localhost:8080/"
        },
        "id": "BSa2aeinj5jH",
        "outputId": "db822c79-2d3e-41db-d0a2-f3ebe25e07e4"
      },
      "outputs": [
        {
          "data": {
            "text/plain": [
              "(LinearRegressionModel(),\n",
              " OrderedDict([('weight', tensor([0.3367])), ('bias', tensor([0.1288]))]))"
            ]
          },
          "execution_count": 9,
          "metadata": {},
          "output_type": "execute_result"
        }
      ],
      "source": [
        "# Displaying the parameters\n",
        "lr_model,lr_model.state_dict()"
      ]
    },
    {
      "cell_type": "code",
      "execution_count": 10,
      "metadata": {
        "colab": {
          "base_uri": "https://localhost:8080/"
        },
        "id": "mkY8SOfSkOf8",
        "outputId": "1be96547-fe90-41ff-f9da-552fe9d95094"
      },
      "outputs": [
        {
          "data": {
            "text/plain": [
              "device(type='cpu')"
            ]
          },
          "execution_count": 10,
          "metadata": {},
          "output_type": "execute_result"
        }
      ],
      "source": [
        "next(lr_model.parameters()).device"
      ]
    },
    {
      "cell_type": "code",
      "execution_count": 11,
      "metadata": {
        "colab": {
          "base_uri": "https://localhost:8080/"
        },
        "id": "qw4wBJ-ZlFMl",
        "outputId": "8470c645-21c5-4042-beb4-f4f97aa4b892"
      },
      "outputs": [
        {
          "data": {
            "text/plain": [
              "[Parameter containing:\n",
              " tensor([0.3367], device='cuda:0', requires_grad=True),\n",
              " Parameter containing:\n",
              " tensor([0.1288], device='cuda:0', requires_grad=True)]"
            ]
          },
          "execution_count": 11,
          "metadata": {},
          "output_type": "execute_result"
        }
      ],
      "source": [
        "# Instantiate the model and put it to the target device\n",
        "lr_model.to(device)\n",
        "list(lr_model.parameters())"
      ]
    },
    {
      "cell_type": "markdown",
      "metadata": {
        "id": "hmkB6X1CevJf"
      },
      "source": [
        "### 3. Create a loss function and optimizer using nn.L1Loss() and torch.optim.SGD(params, lr) respectively."
      ]
    },
    {
      "cell_type": "code",
      "execution_count": 12,
      "metadata": {
        "id": "KgGas8ib5YKs"
      },
      "outputs": [],
      "source": [
        "# Create the loss function and optimizer\n",
        "loss_fn = nn.L1Loss() # Criterion to measure the mean absolute error (MAE)\n",
        "optimizer = torch.optim.SGD(params = lr_model.parameters(), lr = 0.01)"
      ]
    },
    {
      "cell_type": "code",
      "execution_count": 13,
      "metadata": {
        "colab": {
          "base_uri": "https://localhost:8080/"
        },
        "id": "RhamM7Ff6VY6",
        "outputId": "c49f5ce2-09a3-4a44-f816-e38e50137750"
      },
      "outputs": [
        {
          "name": "stdout",
          "output_type": "stream",
          "text": [
            "Epoch: 0 | Train loss: 0.757 | Test loss: 0.725\n",
            "Epoch: 20 | Train loss: 0.525 | Test loss: 0.454\n",
            "Epoch: 40 | Train loss: 0.294 | Test loss: 0.183\n",
            "Epoch: 60 | Train loss: 0.077 | Test loss: 0.073\n",
            "Epoch: 80 | Train loss: 0.053 | Test loss: 0.116\n",
            "Epoch: 100 | Train loss: 0.046 | Test loss: 0.105\n",
            "Epoch: 120 | Train loss: 0.039 | Test loss: 0.089\n",
            "Epoch: 140 | Train loss: 0.032 | Test loss: 0.074\n",
            "Epoch: 160 | Train loss: 0.025 | Test loss: 0.058\n",
            "Epoch: 180 | Train loss: 0.018 | Test loss: 0.042\n",
            "Epoch: 200 | Train loss: 0.011 | Test loss: 0.026\n",
            "Epoch: 220 | Train loss: 0.004 | Test loss: 0.009\n",
            "Epoch: 240 | Train loss: 0.004 | Test loss: 0.006\n",
            "Epoch: 260 | Train loss: 0.004 | Test loss: 0.006\n",
            "Epoch: 280 | Train loss: 0.004 | Test loss: 0.006\n"
          ]
        }
      ],
      "source": [
        "# Training loop\n",
        "# Train model for 300 epochs\n",
        "torch.manual_seed(42)\n",
        "\n",
        "epochs = 300\n",
        "\n",
        "# Send data to target device\n",
        "X_train = X_train.to(device)\n",
        "X_test = X_test.to(device)\n",
        "y_train = y_train.to(device)\n",
        "y_test = y_test.to(device)\n",
        "\n",
        "for epoch in range(epochs):\n",
        "  ### Training\n",
        "\n",
        "  # Put model in train mode\n",
        "  lr_model.train()\n",
        "\n",
        "  # 1. Forward pass\n",
        "  y_pred = lr_model(X_train)\n",
        "\n",
        "  # 2. Calculate loss\n",
        "  loss = loss_fn(y_pred,y_train)\n",
        "\n",
        "  # 3. Zero gradients\n",
        "  optimizer.zero_grad()\n",
        "\n",
        "  # 4. Backpropagation\n",
        "  loss.backward()\n",
        "\n",
        "  # 5. Step the optimizer\n",
        "  optimizer.step()\n",
        "\n",
        "  ### Perform testing every 20 epochs\n",
        "  if epoch % 20 == 0:\n",
        "    # Put model in evaluation mode and setup inference context\n",
        "    lr_model.eval()\n",
        "    with torch.inference_mode():\n",
        "      # 1. Forward pass\n",
        "      y_preds = lr_model(X_test)\n",
        "      # 2. Calculate test loss\n",
        "      test_loss = loss_fn(y_preds,y_test)\n",
        "      # Print out what's happening\n",
        "      print(f\"Epoch: {epoch} | Train loss: {loss:.3f} | Test loss: {test_loss:.3f}\")\n"
      ]
    },
    {
      "cell_type": "markdown",
      "metadata": {
        "id": "C9_ERy49e4UY"
      },
      "source": [
        "### 4. Make predictions with the trained model on the test data."
      ]
    },
    {
      "cell_type": "code",
      "execution_count": 14,
      "metadata": {
        "colab": {
          "base_uri": "https://localhost:8080/"
        },
        "id": "O33Ot0Ce6i8b",
        "outputId": "40fb7208-bb2f-4554-8159-15a8f2eadeb5"
      },
      "outputs": [
        {
          "data": {
            "text/plain": [
              "tensor([[1.1464],\n",
              "        [1.1495],\n",
              "        [1.1525],\n",
              "        [1.1556],\n",
              "        [1.1587],\n",
              "        [1.1617],\n",
              "        [1.1648],\n",
              "        [1.1679],\n",
              "        [1.1709],\n",
              "        [1.1740],\n",
              "        [1.1771],\n",
              "        [1.1801],\n",
              "        [1.1832],\n",
              "        [1.1863],\n",
              "        [1.1893],\n",
              "        [1.1924],\n",
              "        [1.1955],\n",
              "        [1.1985],\n",
              "        [1.2016],\n",
              "        [1.2047]], device='cuda:0')"
            ]
          },
          "execution_count": 14,
          "metadata": {},
          "output_type": "execute_result"
        }
      ],
      "source": [
        "# Make predictions with the model\n",
        "lr_model.eval()\n",
        "\n",
        "with torch.inference_mode():\n",
        "  y_preds = lr_model(X_test)\n",
        "y_preds\n"
      ]
    },
    {
      "cell_type": "code",
      "execution_count": 15,
      "metadata": {
        "colab": {
          "base_uri": "https://localhost:8080/"
        },
        "id": "_GeepSai9YvM",
        "outputId": "a151a775-4cb9-4306-f2c3-484cb496b370"
      },
      "outputs": [
        {
          "data": {
            "text/plain": [
              "tensor([[1.1464],\n",
              "        [1.1495],\n",
              "        [1.1525],\n",
              "        [1.1556],\n",
              "        [1.1587],\n",
              "        [1.1617],\n",
              "        [1.1648],\n",
              "        [1.1679],\n",
              "        [1.1709],\n",
              "        [1.1740],\n",
              "        [1.1771],\n",
              "        [1.1801],\n",
              "        [1.1832],\n",
              "        [1.1863],\n",
              "        [1.1893],\n",
              "        [1.1924],\n",
              "        [1.1955],\n",
              "        [1.1985],\n",
              "        [1.2016],\n",
              "        [1.2047]])"
            ]
          },
          "execution_count": 15,
          "metadata": {},
          "output_type": "execute_result"
        }
      ],
      "source": [
        "y_preds.cpu()"
      ]
    },
    {
      "cell_type": "code",
      "execution_count": 16,
      "metadata": {
        "colab": {
          "base_uri": "https://localhost:8080/",
          "height": 599
        },
        "id": "Ckkm-mSv9lEt",
        "outputId": "d688d351-a444-4fdd-8c08-47a01a40791c"
      },
      "outputs": [
        {
          "data": {
            "image/png": "[encoded data removed]",
            "text/plain": [
              "<Figure size 1000x700 with 1 Axes>"
            ]
          },
          "metadata": {},
          "output_type": "display_data"
        }
      ],
      "source": [
        "# Plot the predictions (these may need to be on a specific device)\n",
        "plot_predictions(predictions = y_preds.cpu())"
      ]
    },
    {
      "cell_type": "markdown",
      "metadata": {
        "id": "zGZcy1nie-6a"
      },
      "source": [
        "### 5. Save your trained model's state_dict() to file."
      ]
    },
    {
      "cell_type": "code",
      "execution_count": 17,
      "metadata": {
        "colab": {
          "base_uri": "https://localhost:8080/"
        },
        "id": "8QM3wlUXFqWC",
        "outputId": "070b9e11-70a5-4ea2-af4b-5b294d4c42b8"
      },
      "outputs": [
        {
          "name": "stdout",
          "output_type": "stream",
          "text": [
            "Saving model to models/01_pytorch_lr_model\n"
          ]
        }
      ],
      "source": [
        "from pathlib import Path\n",
        "import os\n",
        "\n",
        "# 1. Create models directory\n",
        "MODEL_PATH = Path(\"models\")\n",
        "MODEL_PATH.mkdir(parents = True,exist_ok = True)\n",
        "# 2. Create model save path\n",
        "MODEL_NAME = \"01_pytorch_lr_model\"\n",
        "MODEL_SAVE_PATH = MODEL_PATH / MODEL_NAME\n",
        "# 3. Save the model state dict\n",
        "print(f\"Saving model to {MODEL_SAVE_PATH}\")\n",
        "torch.save(obj = lr_model.state_dict(),f = MODEL_SAVE_PATH)"
      ]
    },
    {
      "cell_type": "code",
      "execution_count": 18,
      "metadata": {
        "colab": {
          "base_uri": "https://localhost:8080/"
        },
        "id": "fg0EUS4EHIDF",
        "outputId": "b60fefec-dfc5-413d-cd53-6cb9bfed3624"
      },
      "outputs": [
        {
          "name": "stderr",
          "output_type": "stream",
          "text": [
            "<ipython-input-18-0e241c47d006>:3: FutureWarning: You are using `torch.load` with `weights_only=False` (the current default value), which uses the default pickle module implicitly. It is possible to construct malicious pickle data which will execute arbitrary code during unpickling (See https://github.com/pytorch/pytorch/blob/main/SECURITY.md#untrusted-models for more details). In a future release, the default value for `weights_only` will be flipped to `True`. This limits the functions that could be executed during unpickling. Arbitrary objects will no longer be allowed to be loaded via this mode unless they are explicitly allowlisted by the user via `torch.serialization.add_safe_globals`. We recommend you start setting `weights_only=True` for any use case where you don't have full control of the loaded file. Please open an issue on GitHub for any issues related to this experimental feature.\n",
            "  loaded_model.load_state_dict(torch.load(f = MODEL_SAVE_PATH))\n"
          ]
        },
        {
          "data": {
            "text/plain": [
              "LinearRegressionModel()"
            ]
          },
          "execution_count": 18,
          "metadata": {},
          "output_type": "execute_result"
        }
      ],
      "source": [
        "# Create new instance of model and load saved state dict (make sure to put it on the target device)\n",
        "loaded_model = LinearRegressionModel()\n",
        "loaded_model.load_state_dict(torch.load(f = MODEL_SAVE_PATH))\n",
        "loaded_model.to(device)"
      ]
    },
    {
      "cell_type": "code",
      "execution_count": 19,
      "metadata": {
        "colab": {
          "base_uri": "https://localhost:8080/"
        },
        "id": "wTlbf8ltHT19",
        "outputId": "a93dcb65-b49c-4789-bbf3-891a2f99e65e"
      },
      "outputs": [
        {
          "data": {
            "text/plain": [
              "tensor([[True],\n",
              "        [True],\n",
              "        [True],\n",
              "        [True],\n",
              "        [True],\n",
              "        [True],\n",
              "        [True],\n",
              "        [True],\n",
              "        [True],\n",
              "        [True],\n",
              "        [True],\n",
              "        [True],\n",
              "        [True],\n",
              "        [True],\n",
              "        [True],\n",
              "        [True],\n",
              "        [True],\n",
              "        [True],\n",
              "        [True],\n",
              "        [True]], device='cuda:0')"
            ]
          },
          "execution_count": 19,
          "metadata": {},
          "output_type": "execute_result"
        }
      ],
      "source": [
        "# Make predictions with loaded model and compare them to the previous\n",
        "y_preds_new = loaded_model(X_test)\n",
        "y_preds == y_preds_new"
      ]
    },
    {
      "cell_type": "code",
      "execution_count": 20,
      "metadata": {
        "colab": {
          "base_uri": "https://localhost:8080/"
        },
        "id": "Mdj1LarCHXCz",
        "outputId": "f4b53f3e-3e9b-41d9-f76f-206a6dc960d3"
      },
      "outputs": [
        {
          "data": {
            "text/plain": [
              "OrderedDict([('weight', tensor([0.3067], device='cuda:0')),\n",
              "             ('bias', tensor([0.9011], device='cuda:0'))])"
            ]
          },
          "execution_count": 20,
          "metadata": {},
          "output_type": "execute_result"
        }
      ],
      "source": [
        "loaded_model.state_dict()"
      ]
    }
  ],
  "metadata": {
    "accelerator": "GPU",
    "colab": {
      "gpuType": "T4",
      "provenance": []
    },
    "kernelspec": {
      "display_name": "Arewa-Data-Science",
      "language": "python",
      "name": "python3"
    },
    "language_info": {
      "name": "python",
      "version": "3.10.13"
    }
  },
  "nbformat": 4,
  "nbformat_minor": 0
}
